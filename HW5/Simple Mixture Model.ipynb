{
 "cells": [
  {
   "cell_type": "code",
   "execution_count": 46,
   "metadata": {},
   "outputs": [],
   "source": [
    "import numpy as np\n",
    "import math"
   ]
  },
  {
   "cell_type": "code",
   "execution_count": 47,
   "metadata": {},
   "outputs": [
    {
     "name": "stdout",
     "output_type": "stream",
     "text": [
      "[Errno 2] No such file or directory: './data/queries/.txt'\n",
      "[Errno 2] No such file or directory: './data/docs/.txt'\n",
      "150\n",
      "30000\n"
     ]
    }
   ],
   "source": [
    "query_dict = {}\n",
    "doc_dict = {}\n",
    "doc_avglen = 0\n",
    "root_path = './data'\n",
    "\n",
    "with open(f'{root_path}/query_list.txt', 'r') as file:\n",
    "    query_list = file.read()\n",
    "    for file_name in query_list.split('\\n'): \n",
    "        try:\n",
    "            file_path = f'{root_path}/queries/{file_name}.txt'\n",
    "            with open(file_path, 'r') as f:\n",
    "                query_dict[file_name] = f.read().split(' ')\n",
    "        except Exception as e:\n",
    "            print(e)\n",
    "\n",
    "with open(f'{root_path}/doc_list.txt', 'r') as file:\n",
    "    doc_list = file.read()\n",
    "    for file_name in doc_list.split('\\n'):\n",
    "        try:\n",
    "            file_path = f'{root_path}/docs/{file_name}.txt'\n",
    "            with open(file_path, 'r') as f:\n",
    "                doc_dict[file_name] = f.read().split(' ')\n",
    "                doc_avglen += len(doc_dict[file_name])\n",
    "        except Exception as e:\n",
    "            print(e)\n",
    "\n",
    "doc_avglen /= len(doc_dict)\n",
    "\n",
    "print(len(query_dict))\n",
    "print(len(doc_dict))"
   ]
  },
  {
   "cell_type": "code",
   "execution_count": 48,
   "metadata": {},
   "outputs": [],
   "source": [
    "query_word = []\n",
    "for _, value in query_dict.items():\n",
    "    query_word.append(value)\n",
    "query_word = sum(query_word, [])"
   ]
  },
  {
   "cell_type": "code",
   "execution_count": 49,
   "metadata": {},
   "outputs": [
    {
     "name": "stdout",
     "output_type": "stream",
     "text": [
      "154240\n",
      "31389\n"
     ]
    }
   ],
   "source": [
    "### Calculate word count & total word length\n",
    "all_word_dict = {}   # word: count\n",
    "all_word_len = 0 # 計算 total word length in document\n",
    "\n",
    "for doc_name, doc in doc_dict.items():\n",
    "    all_word_len += len(doc)\n",
    "    for word in doc:\n",
    "        if all_word_dict.get(word, 0):\n",
    "            all_word_dict[word] += 1\n",
    "        else:\n",
    "            all_word_dict[word] = 1\n",
    "print(len(all_word_dict))\n",
    "\n",
    "# filter word\n",
    "new_word_dict = {}\n",
    "for word, count in all_word_dict.items():\n",
    "    if count > 9 or word in query_word:\n",
    "        new_word_dict[word] = count\n",
    "print(len(new_word_dict))"
   ]
  },
  {
   "cell_type": "code",
   "execution_count": 50,
   "metadata": {},
   "outputs": [],
   "source": [
    "# doc/word to id\n",
    "doc2id, id2doc, word2id, id2word = {}, {}, {}, {}\n",
    "for i, doc_name in enumerate(list(doc_dict.keys())):\n",
    "    id2doc[i] = doc_name\n",
    "    doc2id[doc_name] = i\n",
    "    \n",
    "for i, word in enumerate(list(new_word_dict.keys())):\n",
    "    word2id[word] = i\n",
    "    id2word[i] = word"
   ]
  },
  {
   "cell_type": "code",
   "execution_count": 51,
   "metadata": {},
   "outputs": [],
   "source": [
    "tf_matrix = np.zeros((len(doc_dict), len(new_word_dict)))\n",
    "\n",
    "for doc_name, doc in doc_dict.items():\n",
    "    i = doc2id[doc_name]\n",
    "    for word in doc:\n",
    "        if new_word_dict.get(word, 0):\n",
    "            j = word2id[word]\n",
    "            tf_matrix[i][j] += 1"
   ]
  },
  {
   "cell_type": "code",
   "execution_count": 52,
   "metadata": {},
   "outputs": [
    {
     "name": "stdout",
     "output_type": "stream",
     "text": [
      "31389\n"
     ]
    }
   ],
   "source": [
    "### Calculate BG word\n",
    "BG_matrix = np.zeros(len(new_word_dict))\n",
    "for word, count in new_word_dict.items():\n",
    "    BG_matrix[word2id[word]] = count / all_word_len\n",
    "    \n",
    "print(len(BG_matrix))"
   ]
  },
  {
   "cell_type": "code",
   "execution_count": 53,
   "metadata": {},
   "outputs": [],
   "source": [
    "word_dict = {}      # word_dict[doc][word] = 1\n",
    "df_dict = {}        # df[word]\n",
    "idf_dict = {}       # idf[word]\n",
    "\n",
    "for doc_name, doc in doc_dict.items():\n",
    "    word_dict[doc_name] = {}\n",
    "    for word in set(doc):               # 利用 set 過濾重複字，增加效能\n",
    "        word_dict[doc_name][word] = 1   # 將找到的 word 根據 document 放在 key\n",
    "\n",
    "for word in list(new_word_dict.keys()):   # 計算 df (idf 的分母)\n",
    "    freq = 0 \n",
    "    for doc_name in word_dict.keys():\n",
    "        if word_dict[doc_name].get(word, 0): # 若在這篇文章有找到此 word ，則 +1\n",
    "            freq += 1\n",
    "\n",
    "    df_dict[word] = freq\n",
    "\n",
    "for word, df_freq in df_dict.items():   # 計算 idf\n",
    "    idf_dict[word] = math.log(((len(doc_dict)+1) / (df_freq+1)) , 10)  # smooth 公式"
   ]
  },
  {
   "cell_type": "code",
   "execution_count": 54,
   "metadata": {},
   "outputs": [],
   "source": [
    "doc_len, word_len, query_len = len(doc_dict), len(new_word_dict), len(query_dict)\n",
    "top = 5"
   ]
  },
  {
   "cell_type": "code",
   "execution_count": 55,
   "metadata": {},
   "outputs": [],
   "source": [
    "def bestMatchModel(query_list):\n",
    "    K1, b = 0.8, 0.7\n",
    "    score_dict = {}\n",
    "    \n",
    "    for doc_name, doc in doc_dict.items():\n",
    "        doc_id = doc2id[doc_name]\n",
    "        score = 0\n",
    "        \n",
    "        for word in query_list:\n",
    "            word_id = word2id[word]\n",
    "            tf = tf_matrix[doc_id][word_id]\n",
    "            doc_weight = ((K1 + 1) * tf) / (K1 * ((1 - b) + (b * len(doc) / doc_avglen)) + tf)\n",
    "            idf_weight = pow(idf_dict[word], 2) if idf_dict.get(word, 0) else 0\n",
    "            score += doc_weight * idf_weight\n",
    "            \n",
    "        score_dict[doc_name] = score\n",
    "    \n",
    "    rank = sorted(score_dict.items(), key=lambda x: x[1], reverse = True) # 根據分數做排序\n",
    "    \n",
    "    return rank[0:top]"
   ]
  },
  {
   "cell_type": "code",
   "execution_count": 56,
   "metadata": {},
   "outputs": [],
   "source": [
    "# use BM25 find relevent document\n",
    "relevant_doc = {}\n",
    "for query_id, _query in enumerate(list(query_dict.values())):\n",
    "    doc_rank = bestMatchModel(_query)\n",
    "    \n",
    "    rel_matrix = np.zeros((top, word_len))\n",
    "    for i, doc in enumerate(doc_rank):\n",
    "        doc_index = doc2id[doc[0]]\n",
    "        rel_matrix[i] = tf_matrix[doc_index]\n",
    "    \n",
    "    relevant_doc[query_id] = rel_matrix"
   ]
  },
  {
   "cell_type": "code",
   "execution_count": 57,
   "metadata": {},
   "outputs": [],
   "source": [
    "def EStep(Psmm):\n",
    "    alpha = 0.3\n",
    "    \n",
    "    Tsmm = ((1 - alpha) * Psmm) / ((1 - alpha) * Psmm + alpha * BG_matrix)\n",
    "\n",
    "    return Tsmm"
   ]
  },
  {
   "cell_type": "code",
   "execution_count": 58,
   "metadata": {},
   "outputs": [],
   "source": [
    "def MStep(Psmm, Tsmm):\n",
    "    for k in range(0, query_len):\n",
    "        Psmm[k] = 0\n",
    "    \n",
    "    for query_id, rel_matrix in relevant_doc.items():\n",
    "        Psmm[query_id] = (np.sum(rel_matrix, axis=0) * Tsmm[query_id]) / np.sum(rel_matrix)\n",
    "    \n",
    "    return Psmm"
   ]
  },
  {
   "cell_type": "code",
   "execution_count": 59,
   "metadata": {},
   "outputs": [],
   "source": [
    "def SMM_algorithm():\n",
    "    # initialize\n",
    "    Psmm = np.random.random([query_len, word_len])\n",
    "    for k in range(0, query_len):\n",
    "        normalization = sum(Psmm[k, :])\n",
    "        for i in range(0, word_len):\n",
    "            Psmm[k, i] /= normalization\n",
    "    \n",
    "    # SMM iteration\n",
    "    Iteration = 30\n",
    "    for i in range(Iteration):\n",
    "        Tsmm = EStep(Psmm)\n",
    "        Psmm = MStep(Psmm, Tsmm)\n",
    "    \n",
    "    print('done')\n",
    "    return Psmm"
   ]
  },
  {
   "cell_type": "code",
   "execution_count": 60,
   "metadata": {
    "scrolled": true
   },
   "outputs": [
    {
     "name": "stdout",
     "output_type": "stream",
     "text": [
      "done\n"
     ]
    }
   ],
   "source": [
    "Psmm = SMM_algorithm()"
   ]
  },
  {
   "cell_type": "code",
   "execution_count": 66,
   "metadata": {},
   "outputs": [],
   "source": [
    "def KL_divergence(query_id, query_list):\n",
    "    alpha, beta, gamma = 0.15, 0.8, 0.3\n",
    "    score_dict = {}\n",
    "    \n",
    "    q_ulm = np.zeros(word_len)\n",
    "    for word in query_list:\n",
    "        word_id = word2id[word]\n",
    "        q_ulm[word_id] = (1/len(query_list))\n",
    "        \n",
    "    KL_1 = alpha * q_ulm + beta * Psmm[query_id] + (1-alpha-beta) * BG_matrix\n",
    "    \n",
    "    for doc_name, doc in doc_dict.items():\n",
    "        doc_id = doc2id[doc_name]\n",
    "        KL_2 = gamma * (tf_matrix[doc_id] / len(doc)) + (1-gamma) * BG_matrix\n",
    "        \n",
    "        score = np.sum(KL_1 * np.log(KL_2))\n",
    "        score_dict[doc_name] = score\n",
    "    \n",
    "    rank = sorted(score_dict.items(), key=lambda x: x[1], reverse = True)\n",
    "    return rank"
   ]
  },
  {
   "cell_type": "code",
   "execution_count": 67,
   "metadata": {
    "scrolled": true
   },
   "outputs": [
    {
     "name": "stdout",
     "output_type": "stream",
     "text": [
      "done\n"
     ]
    }
   ],
   "source": [
    "f = open('ans_smm.txt', 'w')\n",
    "string = 'Query,RetrievedDocuments\\n'\n",
    "\n",
    "query_id = 0\n",
    "for _id, _query in query_dict.items():\n",
    "    rank = KL_divergence(query_id, _query)\n",
    "    query_id += 1\n",
    "\n",
    "    string += _id + ','\n",
    "    for doc in rank[0:5000]:\n",
    "        string += doc[0] + ' '\n",
    "    string += '\\n'\n",
    "    \n",
    "f.write(string)\n",
    "f.close()\n",
    "print('done')"
   ]
  },
  {
   "cell_type": "code",
   "execution_count": null,
   "metadata": {},
   "outputs": [],
   "source": [
    " "
   ]
  }
 ],
 "metadata": {
  "kernelspec": {
   "display_name": "Python 3",
   "language": "python",
   "name": "python3"
  },
  "language_info": {
   "codemirror_mode": {
    "name": "ipython",
    "version": 3
   },
   "file_extension": ".py",
   "mimetype": "text/x-python",
   "name": "python",
   "nbconvert_exporter": "python",
   "pygments_lexer": "ipython3",
   "version": "3.8.3"
  }
 },
 "nbformat": 4,
 "nbformat_minor": 4
}
