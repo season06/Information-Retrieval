{
 "cells": [
  {
   "cell_type": "code",
   "execution_count": 76,
   "metadata": {},
   "outputs": [],
   "source": [
    "import numpy as np\n",
    "import math\n",
    "from sklearn.preprocessing import normalize"
   ]
  },
  {
   "cell_type": "code",
   "execution_count": 77,
   "metadata": {},
   "outputs": [
    {
     "name": "stdout",
     "output_type": "stream",
     "text": [
      "[Errno 2] No such file or directory: './data/queries/.txt'\n",
      "[Errno 2] No such file or directory: './data/docs/.txt'\n",
      "150\n",
      "30000\n"
     ]
    }
   ],
   "source": [
    "query_dict = {}\n",
    "doc_dict = {}\n",
    "doc_avglen = 0\n",
    "root_path = './data'\n",
    "\n",
    "with open(f'{root_path}/query_list.txt', 'r') as file:\n",
    "    query_list = file.read()\n",
    "    for file_name in query_list.split('\\n'): \n",
    "        try:\n",
    "            file_path = f'{root_path}/queries/{file_name}.txt'\n",
    "            with open(file_path, 'r') as f:\n",
    "                query_dict[file_name] = f.read().split(' ')\n",
    "        except Exception as e:\n",
    "            print(e)\n",
    "\n",
    "with open(f'{root_path}/doc_list.txt', 'r') as file:\n",
    "    doc_list = file.read()\n",
    "    for file_name in doc_list.split('\\n'):\n",
    "        try:\n",
    "            file_path = f'{root_path}/docs/{file_name}.txt'\n",
    "            with open(file_path, 'r') as f:\n",
    "                doc_dict[file_name] = f.read().split(' ')\n",
    "                doc_avglen += len(doc_dict[file_name])\n",
    "        except Exception as e:\n",
    "            print(e)\n",
    "\n",
    "doc_avglen /= len(doc_dict)\n",
    "\n",
    "print(len(query_dict))\n",
    "print(len(doc_dict))"
   ]
  },
  {
   "cell_type": "code",
   "execution_count": 78,
   "metadata": {},
   "outputs": [],
   "source": [
    "query_word = []\n",
    "for _, value in query_dict.items():\n",
    "    query_word.append(value)\n",
    "query_word = sum(query_word, [])"
   ]
  },
  {
   "cell_type": "code",
   "execution_count": 79,
   "metadata": {},
   "outputs": [
    {
     "name": "stdout",
     "output_type": "stream",
     "text": [
      "154240\n",
      "29735\n"
     ]
    }
   ],
   "source": [
    "# global word\n",
    "all_word_dict = {}\n",
    "for doc_name, doc in doc_dict.items():\n",
    "    for word in doc:\n",
    "        if all_word_dict.get(word, 0):\n",
    "            all_word_dict[word] += 1\n",
    "        else:\n",
    "            all_word_dict[word] = 1\n",
    "print(len(all_word_dict))\n",
    "\n",
    "# filter word\n",
    "all_word_list = []\n",
    "for word, count in all_word_dict.items():\n",
    "    if count > 10 or word in query_word:\n",
    "        all_word_list.append(word)\n",
    "print(len(all_word_list))"
   ]
  },
  {
   "cell_type": "code",
   "execution_count": 88,
   "metadata": {},
   "outputs": [],
   "source": [
    "# doc/word to id\n",
    "doc2id, word2id, id2word = {}, {}, {}\n",
    "for i, doc_name in enumerate(list(doc_dict.keys())):\n",
    "    doc2id[doc_name] = i\n",
    "for i, word in enumerate(all_word_list):\n",
    "    word2id[word] = i\n",
    "    id2word[i] = word"
   ]
  },
  {
   "cell_type": "code",
   "execution_count": 81,
   "metadata": {},
   "outputs": [],
   "source": [
    "tf_dict = {}   # tf[doc][word]\n",
    "    \n",
    "for doc_name, doc in doc_dict.items(): # 讀取 key value\n",
    "    tf_dict[doc_name] = {}\n",
    "    for word in doc:\n",
    "        if tf_dict[doc_name].get(word, 0):  # 計算 tf\n",
    "            tf_dict[doc_name][word] += 1\n",
    "        else:\n",
    "            tf_dict[doc_name][word] = 1"
   ]
  },
  {
   "cell_type": "code",
   "execution_count": 82,
   "metadata": {},
   "outputs": [],
   "source": [
    "word_dict = {}      # word_dict[doc][word] = 1\n",
    "df_dict = {}        # df[word]\n",
    "idf_dict = {}       # idf[word]\n",
    "\n",
    "for doc_name, doc in doc_dict.items():\n",
    "    word_dict[doc_name] = {}\n",
    "    for word in set(doc):               # 利用 set 過濾重複字，增加效能\n",
    "        word_dict[doc_name][word] = 1   # 將找到的 word 根據 document 放在 key\n",
    "\n",
    "for word in all_word_list:   # 計算 df (idf 的分母)\n",
    "    freq = 0 \n",
    "    for doc_name in word_dict.keys():\n",
    "        if word_dict[doc_name].get(word, 0): # 若在這篇文章有找到此 word ，則 +1\n",
    "            freq += 1\n",
    "\n",
    "    df_dict[word] = freq\n",
    "\n",
    "for word, df_freq in df_dict.items():   # 計算 idf\n",
    "    idf_dict[word] = math.log(((len(doc_dict)+1) / (df_freq+1)) , 10)  # smooth 公式"
   ]
  },
  {
   "cell_type": "code",
   "execution_count": null,
   "metadata": {},
   "outputs": [],
   "source": [
    "tf_idf = np.zeros((len(doc_dict), len(all_word_list)))\n",
    "print(tf_idf.shape)\n",
    "\n",
    "for i, doc_name in enumerate(list(doc_dict.keys())):  # 計算 tf_idf\n",
    "    for j, word in enumerate(all_word_list):\n",
    "        if word in doc_dict[doc_name]:\n",
    "            tf_idf[i, j] = (1 + math.log(tf_dict[doc_name][word], 10)) * idf_dict[word]"
   ]
  },
  {
   "cell_type": "code",
   "execution_count": 83,
   "metadata": {},
   "outputs": [],
   "source": [
    "tf_idf = np.load('./numpy/tf_idf.npy')\n",
    "tf_idf = normalize(tf_idf, axis=1, norm='l2')"
   ]
  },
  {
   "cell_type": "code",
   "execution_count": 84,
   "metadata": {},
   "outputs": [],
   "source": [
    "def bestMatchModel(query_list):\n",
    "    K1, b = 0.8, 0.7\n",
    "    score_dict = {}\n",
    "    \n",
    "    for doc_name, doc in doc_dict.items():\n",
    "        doc_term_len = len(doc)\n",
    "        score = 0\n",
    "        \n",
    "        for word in query_list:\n",
    "            tf = tf_dict[doc_name][word] if tf_dict[doc_name].get(word, 0) else 0 # 將 word 轉成 score\n",
    "            doc_weight = ((K1 + 1) * tf) / (K1 * ((1 - b) + (b * doc_term_len / doc_avglen)) + tf)\n",
    "            idf_weight = pow(idf_dict[word], 2) if idf_dict.get(word, 0) else 0\n",
    "            score += doc_weight * idf_weight\n",
    "            \n",
    "        score_dict[doc_name] = score\n",
    "    \n",
    "    rank = sorted(score_dict.items(), key=lambda x: x[1], reverse = True) # 根據分數做排序\n",
    "    return rank"
   ]
  },
  {
   "cell_type": "code",
   "execution_count": 117,
   "metadata": {},
   "outputs": [],
   "source": [
    "def bestMatchModel_again(query_vec):\n",
    "    K1, b = 0.8, 0.75\n",
    "    score_dict = {}\n",
    "    query_dict = {}\n",
    "    for index, score in enumerate(query_vec):\n",
    "        if score == 0:\n",
    "            continue\n",
    "        query_dict[id2word[index]] = score\n",
    "    \n",
    "    for doc_name, doc in doc_dict.items():\n",
    "        doc_term_len = len(doc)\n",
    "        score = 0\n",
    "        \n",
    "        for word, score in query_dict.items():\n",
    "            tf = tf_dict[doc_name][word] if tf_dict[doc_name].get(word, 0) else 0 # 將 word 轉成 score\n",
    "            doc_weight = ((K1 + 1) * tf) / (K1 * ((1 - b) + (b * doc_term_len / doc_avglen)) + tf)\n",
    "            idf_weight = pow(idf_dict[word], 2) if idf_dict.get(word, 0) else 0\n",
    "            score += doc_weight * idf_weight\n",
    "            \n",
    "        score_dict[doc_name] = score\n",
    "    \n",
    "    rank = sorted(score_dict.items(), key=lambda x: x[1], reverse = True)\n",
    "    return rank"
   ]
  },
  {
   "cell_type": "code",
   "execution_count": 122,
   "metadata": {},
   "outputs": [],
   "source": [
    "def rocchioAlgorithm(query_list, rank):\n",
    "    alpha, beta, gamma = 1, 0.8, 0.002\n",
    "    top, iteration = 7, 3\n",
    "    \n",
    "    # first query\n",
    "    query_vec = np.zeros(len(all_word_list))\n",
    "    for word in query_list:\n",
    "        word_id = word2id[word]\n",
    "        query_vec[word_id] = idf_dict[word]\n",
    "    \n",
    "    # iterate\n",
    "    for i in range(iteration):\n",
    "        rel_doc_vec, non_rel_doc_vec = np.zeros(len(all_word_list)), np.zeros(len(all_word_list))\n",
    "        score_dict = {}\n",
    "        \n",
    "        # select top 5 relevant documents\n",
    "        for doc_name in rank[0:top]:\n",
    "            doc_id = doc2id[doc_name[0]]\n",
    "            rel_doc_vec += np.array(tf_idf[doc_id])\n",
    "        rel_doc_vec /= top\n",
    "\n",
    "        # select last 1 non-relevant documents\n",
    "        for doc_name in rank[-1:]:\n",
    "            doc_id = doc2id[doc_name[0]]\n",
    "            non_rel_doc_vec = np.array(tf_idf[doc_id])\n",
    "\n",
    "        # update query vector\n",
    "        query_vec = alpha * query_vec + beta * rel_doc_vec - gamma * non_rel_doc_vec\n",
    "        \n",
    "        # cosine similarity\n",
    "        for doc_id, doc_name in enumerate(list(doc_dict.keys())):\n",
    "            doc_vec = tf_idf[doc_id]\n",
    "            score_dict[doc_name] = np.dot(query_vec, doc_vec) \n",
    "\n",
    "        rank = sorted(score_dict.items(), key=lambda x: x[1], reverse = True)\n",
    "        \n",
    "    return rank"
   ]
  },
  {
   "cell_type": "code",
   "execution_count": 127,
   "metadata": {},
   "outputs": [
    {
     "name": "stdout",
     "output_type": "stream",
     "text": [
      "done\n"
     ]
    }
   ],
   "source": [
    "f = open('ans_bm25.txt', 'w')\n",
    "string = 'Query,RetrievedDocuments\\n'\n",
    "\n",
    "for _id, _query in query_dict.items():\n",
    "    first_rank = bestMatchModel(_query)\n",
    "    rank = rocchioAlgorithm(_query, first_rank)\n",
    "    \n",
    "    string += _id + ','\n",
    "    for doc in rank[0:5000]:\n",
    "        string += doc[0] + ' '\n",
    "    string += '\\n'\n",
    "    \n",
    "f.write(string)\n",
    "f.close()\n",
    "print('done')"
   ]
  },
  {
   "cell_type": "code",
   "execution_count": null,
   "metadata": {},
   "outputs": [],
   "source": []
  }
 ],
 "metadata": {
  "kernelspec": {
   "display_name": "Python 3",
   "language": "python",
   "name": "python3"
  },
  "language_info": {
   "codemirror_mode": {
    "name": "ipython",
    "version": 3
   },
   "file_extension": ".py",
   "mimetype": "text/x-python",
   "name": "python",
   "nbconvert_exporter": "python",
   "pygments_lexer": "ipython3",
   "version": "3.8.3"
  }
 },
 "nbformat": 4,
 "nbformat_minor": 4
}
