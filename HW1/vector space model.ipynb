{
 "cells": [
  {
   "cell_type": "code",
   "execution_count": 10,
   "metadata": {},
   "outputs": [],
   "source": [
    "import numpy as np\n",
    "import math"
   ]
  },
  {
   "cell_type": "code",
   "execution_count": 11,
   "metadata": {},
   "outputs": [],
   "source": [
    "def open_file():\n",
    "    query = {}\n",
    "    doc = {}\n",
    "\n",
    "    with open('../ntust-ir-2020/query_list.txt', 'r') as file:\n",
    "        query_list = file.read()\n",
    "        for file_name in query_list.split('\\n'):\n",
    "            try:\n",
    "                file_path = f'../ntust-ir-2020/queries/{file_name}.txt'\n",
    "                with open(file_path, 'r') as f:\n",
    "                    query[file_name] = f.read().lower()\n",
    "            except Exception as e:\n",
    "                print(e)\n",
    "\n",
    "    with open('../ntust-ir-2020/doc_list.txt', 'r') as file:\n",
    "        doc_list = file.read()\n",
    "        for file_name in doc_list.split('\\n'):\n",
    "            try:\n",
    "                file_path = f'../ntust-ir-2020/docs/{file_name}.txt'\n",
    "                with open(file_path, 'r') as f:\n",
    "                    doc[file_name] = f.read().lower()\n",
    "            except Exception as e:\n",
    "                print(e)\n",
    "\n",
    "    print(len(query))\n",
    "    print(len(doc))\n",
    "    \n",
    "    return query, doc"
   ]
  },
  {
   "cell_type": "code",
   "execution_count": 12,
   "metadata": {},
   "outputs": [],
   "source": [
    "def cal_tf(doc_dict):\n",
    "    tf_dict = {}   # tf[doc][word]\n",
    "    \n",
    "    for doc_name, doc in doc_dict.items(): # 讀取 key value\n",
    "        tf_dict[doc_name] = {}\n",
    "        for word in doc.split(' '):        # 將 document 的內容拆成 token\n",
    "            if tf_dict[doc_name].get(word, 0):  # 計算 tf\n",
    "                tf_dict[doc_name][word] += 1\n",
    "            else:\n",
    "                tf_dict[doc_name][word] = 1\n",
    "        \n",
    "    return tf_dict"
   ]
  },
  {
   "cell_type": "code",
   "execution_count": 13,
   "metadata": {},
   "outputs": [],
   "source": [
    "def cal_idf(doc_dict, N):\n",
    "    word_dict = {}      # word_dict[doc][word] = 1\n",
    "    all_word_list = []\n",
    "    df_dict = {}        # df[word]\n",
    "    idf_dict = {}       # idf[word]\n",
    "    \n",
    "    for doc_name, doc in doc_dict.items():\n",
    "        word_dict[doc_name] = {}\n",
    "        for word in set(doc.split(' ')):    # 利用 set 過濾重複字，增加效能\n",
    "            word_dict[doc_name][word] = 1   # 將找到的 word 根據 document 放在 key\n",
    "            all_word_list.append(word)\n",
    "    \n",
    "    for word in list(set(all_word_list)):   # 計算 df (idf 的分母)\n",
    "        freq = 0 \n",
    "        for doc_name in word_dict.keys():\n",
    "            if word_dict[doc_name].get(word, 0): # 若在這篇文章有找到此 word ，則 +1\n",
    "                freq = freq + 1\n",
    "\n",
    "        df_dict[word] = freq\n",
    "    \n",
    "    for word, df_freq in df_dict.items():   # 計算 idf\n",
    "        idf_dict[word] = math.log(((N+1) / (df_freq+1)) , 10)  # smooth 公式\n",
    "        \n",
    "    return idf_dict"
   ]
  },
  {
   "cell_type": "code",
   "execution_count": 14,
   "metadata": {},
   "outputs": [],
   "source": [
    "def cal_tf_idf(tf, idf, doc_dict):\n",
    "    tf_idf_dict = {}  # tf_idf[doc][word]\n",
    "    \n",
    "    for doc_name, doc in doc_dict.items():  # 計算 tf_idf\n",
    "        tf_idf_dict[doc_name] = {}\n",
    "        for word in doc.split(' '):\n",
    "            tf_idf_dict[doc_name][word] = (1 + math.log(tf[doc_name][word], 10)) * idf[word]\n",
    " \n",
    "    return tf_idf_dict "
   ]
  },
  {
   "cell_type": "code",
   "execution_count": 15,
   "metadata": {},
   "outputs": [],
   "source": [
    "def vectorSpaceModel(query, doc_dict, tf_idf):\n",
    "    score_dict = {}\n",
    "    \n",
    "    for doc_name, doc in doc_dict.items():\n",
    "        query_vec = [tf_idf[doc_name][word] if tf_idf[doc_name].get(word, 0) else 0 for word in query.split(' ')] # 將 word 轉成 score\n",
    "        doc_vec = [tf_idf[doc_name][word] if tf_idf[doc_name].get(word, 0) else 0 for word in query.split(' ')] # 將 word 轉成 score\n",
    "        \n",
    "        doc_vec_length = 0\n",
    "        for word, value in tf_idf[doc_name].items():  # 實作 cosine similarity\n",
    "            doc_vec_length += value * value\n",
    "        score_dict[doc_name] = np.dot(query_vec, doc_vec) / math.sqrt(doc_vec_length)\n",
    "    \n",
    "    rank = sorted(score_dict.items(), key=lambda x: x[1], reverse = True) # 根據分數做排序\n",
    "    return rank"
   ]
  },
  {
   "cell_type": "code",
   "execution_count": 16,
   "metadata": {},
   "outputs": [
    {
     "name": "stdout",
     "output_type": "stream",
     "text": [
      "[Errno 2] No such file or directory: '../ntust-ir-2020/queries/.txt'\n",
      "[Errno 2] No such file or directory: '../ntust-ir-2020/docs/.txt'\n",
      "50\n",
      "4191\n"
     ]
    }
   ],
   "source": [
    "query_dict, doc_dict = open_file()"
   ]
  },
  {
   "cell_type": "code",
   "execution_count": 17,
   "metadata": {},
   "outputs": [],
   "source": [
    "tf = cal_tf(doc_dict)\n",
    "idf = cal_idf(doc_dict, len(doc_dict))\n",
    "tf_idf = cal_tf_idf(tf, idf, doc_dict)"
   ]
  },
  {
   "cell_type": "code",
   "execution_count": 18,
   "metadata": {},
   "outputs": [
    {
     "name": "stdout",
     "output_type": "stream",
     "text": [
      "done\n"
     ]
    }
   ],
   "source": [
    "f = open('ans.txt', 'w')\n",
    "string = 'Query,RetrievedDocuments\\n'\n",
    "\n",
    "for _id, _query in query_dict.items():\n",
    "    rank = vectorSpaceModel(_query, doc_dict, tf_idf)\n",
    "\n",
    "    string += _id + ','\n",
    "    for doc in rank:\n",
    "        string += doc[0] + ' '\n",
    "    string += '\\n'\n",
    "    \n",
    "f.write(string)\n",
    "f.close()\n",
    "print('done')"
   ]
  },
  {
   "cell_type": "code",
   "execution_count": null,
   "metadata": {},
   "outputs": [],
   "source": []
  }
 ],
 "metadata": {
  "kernelspec": {
   "display_name": "Python 3",
   "language": "python",
   "name": "python3"
  },
  "language_info": {
   "codemirror_mode": {
    "name": "ipython",
    "version": 3
   },
   "file_extension": ".py",
   "mimetype": "text/x-python",
   "name": "python",
   "nbconvert_exporter": "python",
   "pygments_lexer": "ipython3",
   "version": "3.7.3"
  }
 },
 "nbformat": 4,
 "nbformat_minor": 4
}
