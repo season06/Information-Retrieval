{
 "cells": [
  {
   "cell_type": "code",
   "execution_count": null,
   "metadata": {},
   "outputs": [],
   "source": [
    "# 2\n",
    "# d123 d84 d56 d6 d8 d9 d511 d129 d187 d25 d38 d48 d250 d113 d3\n",
    "# d3 d123 d25 d56 d9\n",
    "# d84 d56 d123 d129 d8 d6 d511 d9 d187 d3 d48 d38 d25 d113 d250\n",
    "# d123 d3 d6"
   ]
  },
  {
   "cell_type": "code",
   "execution_count": null,
   "metadata": {},
   "outputs": [],
   "source": [
    "N = int(input())\n",
    "\n",
    "document, relevant = [], []\n",
    "for i in range(N):\n",
    "    document.append(input())\n",
    "    relevant.append(input())"
   ]
  },
  {
   "cell_type": "code",
   "execution_count": null,
   "metadata": {},
   "outputs": [],
   "source": [
    "MAP = 0\n",
    "for index in range(N):\n",
    "    precision = relevant[index].split(' ')\n",
    "    \n",
    "    score = 0\n",
    "    ans = 0\n",
    "    doc = document[index]\n",
    "    for i in range(len(doc.split(' '))):\n",
    "        if doc[i] in precision:\n",
    "            ans += 1\n",
    "            score += ans / i\n",
    "    MAP += MAP / len(precision)\n",
    "\n",
    "MAP /= N\n",
    "\n",
    "print(MAP)"
   ]
  },
  {
   "cell_type": "code",
   "execution_count": null,
   "metadata": {},
   "outputs": [],
   "source": []
  }
 ],
 "metadata": {
  "kernelspec": {
   "display_name": "Python 3",
   "language": "python",
   "name": "python3"
  },
  "language_info": {
   "codemirror_mode": {
    "name": "ipython",
    "version": 3
   },
   "file_extension": ".py",
   "mimetype": "text/x-python",
   "name": "python",
   "nbconvert_exporter": "python",
   "pygments_lexer": "ipython3",
   "version": "3.7.3"
  }
 },
 "nbformat": 4,
 "nbformat_minor": 4
}
